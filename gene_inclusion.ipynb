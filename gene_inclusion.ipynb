{
 "cells": [
  {
   "cell_type": "code",
   "execution_count": 1,
   "metadata": {},
   "outputs": [],
   "source": [
    "from tagbrewer.tag import checkers, query, brewers\n",
    "from tagbrewer.utils import categories"
   ]
  },
  {
   "cell_type": "markdown",
   "metadata": {},
   "source": [
    "---\n",
    "### 1. Differences in genes between tags and IMGT\n",
    "\n",
    "Note: TRDV1, TRDV2, and TRDV3 are missing from IMGT in TRAV but should be included.\n"
   ]
  },
  {
   "cell_type": "code",
   "execution_count": 2,
   "metadata": {},
   "outputs": [
    {
     "name": "stdout",
     "output_type": "stream",
     "text": [
      "TRAV\n",
      "{'TRAV8-4', 'TRAV14-1', 'TRAVA', 'TRAV8-6-1', 'TRAVC', 'TRAV11-1', 'TRDV1', 'TRAV46', 'TRDV2', 'TRAVB', 'TRDV3'}\n",
      "11\n",
      "TRAJ\n",
      "TRAJ up to date.\n",
      "TRBV\n",
      "{'TRBVA/OR9-2', 'TRBV24/OR9-2', 'TRBV21/OR9-2', 'TRBV12-3', 'TRBV29/OR9-2', 'TRBV20/OR9-2', 'TRBV22/OR9-2', 'TRBV6-2', 'TRBV6-3', 'TRBV23/OR9-2', 'TRBV3-2', 'TRBVC', 'TRBV26/OR9-2', 'TRBV25/OR9-2'}\n",
      "14\n",
      "TRBJ\n",
      "TRBJ up to date.\n"
     ]
    }
   ],
   "source": [
    "for chain, region in categories.get_tr_gene_groups()[:4]:\n",
    "    print(f\"TR{chain}{region}\")\n",
    "    diff = checkers.find_gene_differences(\"../Decombinator-Tags-FASTAs/\", \"human\", \"extended\", chain, region)\n",
    "    print(diff)\n",
    "    if type(diff) != str:\n",
    "        print(len(diff))"
   ]
  },
  {
   "cell_type": "markdown",
   "metadata": {},
   "source": [
    "---\n",
    "### 2. Genes that cannot be decombined by present strategy"
   ]
  },
  {
   "cell_type": "code",
   "execution_count": 3,
   "metadata": {},
   "outputs": [
    {
     "name": "stdout",
     "output_type": "stream",
     "text": [
      "Homo sapiens A\n",
      "0 {}\n",
      "3 {'TRAV33': 'No tags cover all confirmed alleles', 'TRAV8-2': \"Clashes with ['TRAV8-4']\", 'TRAV8-4': \"Clashes with ['TRAV8-2']\"}\n",
      "Homo sapiens B\n",
      "0 {}\n",
      "10 {'TRBV12-3': \"Clashes with ['TRBV12-4']\", 'TRBV12-4': \"Clashes with ['TRBV12-3']\", 'TRBV20/OR9-2': \"Clashes with ['TRBV20-1']\", 'TRBV23/OR9-2': 'No tags cover all confirmed alleles', 'TRBV24/OR9-2': 'No tags cover all confirmed alleles', 'TRBV3-1': \"Clashes with ['TRBV3-2']\", 'TRBV3-2': \"Clashes with ['TRBV3-1']\", 'TRBV6-2': \"Clashes with ['TRBV6-3']\", 'TRBV6-3': \"Clashes with ['TRBV6-2']\", 'TRBV7-3': 'No tags cover all confirmed alleles'}\n"
     ]
    }
   ],
   "source": [
    "for species in [\"Homo sapiens\"]:\n",
    "    for chain in [\"A\", \"B\"]:\n",
    "        print(species, chain)\n",
    "        j_genes = brewers.JBrewer(chain, species).find_undecombinable()\n",
    "        print(len(j_genes), j_genes)\n",
    "        v_genes = brewers.VBrewer(chain, species).find_undecombinable()\n",
    "        print(len(v_genes), v_genes)"
   ]
  },
  {
   "cell_type": "markdown",
   "metadata": {},
   "source": [
    "#### 2a. If only functional genes are kept"
   ]
  },
  {
   "cell_type": "code",
   "execution_count": 4,
   "metadata": {},
   "outputs": [
    {
     "name": "stdout",
     "output_type": "stream",
     "text": [
      "Homo sapiens A\n",
      "0 {}\n",
      "2 {'TRAV8-2': \"Clashes with ['TRAV8-4']\", 'TRAV8-4': \"Clashes with ['TRAV8-2']\"}\n",
      "Homo sapiens B\n",
      "0 {}\n",
      "4 {'TRBV12-3': \"Clashes with ['TRBV12-4']\", 'TRBV12-4': \"Clashes with ['TRBV12-3']\", 'TRBV6-2': \"Clashes with ['TRBV6-3']\", 'TRBV6-3': \"Clashes with ['TRBV6-2']\"}\n"
     ]
    }
   ],
   "source": [
    "for species in [\"Homo sapiens\"]:\n",
    "    for chain in [\"A\", \"B\"]:\n",
    "        print(species, chain)\n",
    "        j_genes = brewers.JBrewer(chain, species, functional=True).find_undecombinable()\n",
    "        print(len(j_genes), j_genes)\n",
    "        v_genes = brewers.VBrewer(chain, species, functional=True).find_undecombinable()\n",
    "        print(len(v_genes), v_genes)"
   ]
  },
  {
   "cell_type": "markdown",
   "metadata": {},
   "source": [
    "---\n",
    "### 3. Can we seperate two similar genes by creating a seperate tag for just the clashing pair?"
   ]
  },
  {
   "cell_type": "code",
   "execution_count": 16,
   "metadata": {},
   "outputs": [
    {
     "name": "stdout",
     "output_type": "stream",
     "text": [
      "Homo sapiens A\n",
      "TRAV8-2\n",
      "0\n",
      "['aaaccctcagcccatatgag']\n",
      "1\n",
      "['aaaccctcagcccatatgag']\n",
      "2\n",
      "Clashes with ['TRAV8-4']\n",
      "TRAV8-4\n",
      "0\n",
      "['aaaccctcagcccatatgag']\n",
      "1\n",
      "['aaaccctcagcccatatgag']\n",
      "2\n",
      "Clashes with ['TRAV8-2']\n",
      "Homo sapiens B\n",
      "TRBV12-3\n",
      "0\n",
      "['ccagggactcagctgtgtac']\n",
      "1\n",
      "['ccagggactcagctgtgtac']\n",
      "2\n",
      "Clashes with ['TRBV12-4']\n",
      "TRBV12-4\n",
      "0\n",
      "['ccagggactcagctgtgtac']\n",
      "1\n",
      "['ccagggactcagctgtgtac']\n",
      "2\n",
      "Clashes with ['TRBV12-3']\n",
      "TRBV20/OR9-2\n",
      "0\n",
      "['gtgcccatcctgaagacagc']\n",
      "1\n",
      "['gtgcccatcctgaagacagc']\n",
      "2\n",
      "Clashes with ['TRBV20-1']\n",
      "TRBV3-1\n",
      "0\n",
      "['catcaattccctggagcttg']\n",
      "1\n",
      "['catcaattccctggagcttg']\n",
      "2\n",
      "Clashes with ['TRBV3-2']\n",
      "TRBV3-2\n",
      "0\n",
      "['catcaattccctggagcttg']\n",
      "1\n",
      "['catcaattccctggagcttg']\n",
      "2\n",
      "Clashes with ['TRBV3-1']\n",
      "TRBV6-2\n",
      "0\n",
      "['gttggagtcggctgctccct']\n",
      "1\n",
      "['gttggagtcggctgctccct']\n",
      "2\n",
      "Clashes with ['TRBV6-3']\n",
      "TRBV6-3\n",
      "0\n",
      "['gttggagtcggctgctccct']\n",
      "1\n",
      "['gttggagtcggctgctccct']\n",
      "2\n",
      "Clashes with ['TRBV6-2']\n"
     ]
    }
   ],
   "source": [
    "for species in [\"Homo sapiens\"]:\n",
    "    for chain in [\"A\", \"B\"]:\n",
    "        print(species, chain)\n",
    "        j_genes = brewers.JBrewer(chain, species).brew_tags().gene_layers\n",
    "        for key, item in j_genes.items():\n",
    "            if len(item) > 1:\n",
    "                print(key)\n",
    "                for key1, item1 in item.items():\n",
    "                    print(key1)\n",
    "                    print(item1)\n",
    "        v_genes = brewers.VBrewer(chain, species).brew_tags().gene_layers\n",
    "        for key, item in v_genes.items():\n",
    "            if len(item) > 1:\n",
    "                print(key)\n",
    "                for key1, item1 in item.items():\n",
    "                    print(key1)\n",
    "                    print(item1)"
   ]
  },
  {
   "cell_type": "code",
   "execution_count": null,
   "metadata": {},
   "outputs": [],
   "source": []
  }
 ],
 "metadata": {
  "kernelspec": {
   "display_name": "decombinator",
   "language": "python",
   "name": "python3"
  },
  "language_info": {
   "codemirror_mode": {
    "name": "ipython",
    "version": 3
   },
   "file_extension": ".py",
   "mimetype": "text/x-python",
   "name": "python",
   "nbconvert_exporter": "python",
   "pygments_lexer": "ipython3",
   "version": "3.11.4"
  }
 },
 "nbformat": 4,
 "nbformat_minor": 2
}
