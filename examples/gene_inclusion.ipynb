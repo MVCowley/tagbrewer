{
 "cells": [
  {
   "cell_type": "markdown",
   "metadata": {},
   "source": [
    "Notebook showing:\n",
    "1. Genes presently not decombined by decombinator that exist on IGMT\n",
    "2. Genes that cannot be decombined"
   ]
  },
  {
   "cell_type": "code",
   "execution_count": 1,
   "metadata": {},
   "outputs": [],
   "source": [
    "from tagbrewer.tag import generators, checkers, query\n",
    "from tagbrewer.utils import categories"
   ]
  },
  {
   "cell_type": "markdown",
   "metadata": {},
   "source": [
    "---\n",
    "1. Genes presently not decombined"
   ]
  },
  {
   "cell_type": "code",
   "execution_count": 2,
   "metadata": {},
   "outputs": [
    {
     "name": "stdout",
     "output_type": "stream",
     "text": [
      "TRAV\n",
      "{'TRAVA', 'TRAV8-4', 'TRAVC', 'TRAV11-1', 'TRAV46', 'TRDV3', 'TRAV14-1', 'TRAV8-6-1', 'TRAVB', 'TRDV2', 'TRDV1'}\n",
      "11\n",
      "TRAJ\n",
      "TRAJ up to date.\n",
      "TRBV\n",
      "{'TRBVC', 'TRBV29/OR9-2', 'TRBV3-2', 'TRBV6-3', 'TRBVA/OR9-2', 'TRBV25/OR9-2', 'TRBV6-2', 'TRBV22/OR9-2', 'TRBV24/OR9-2', 'TRBV21/OR9-2', 'TRBV20/OR9-2', 'TRBV12-3', 'TRBV26/OR9-2', 'TRBV23/OR9-2'}\n",
      "14\n",
      "TRBJ\n",
      "TRBJ up to date.\n"
     ]
    }
   ],
   "source": [
    "for chain, region in categories.get_tr_gene_groups()[:4]:\n",
    "    print(f\"TR{chain}{region}\")\n",
    "    diff = checkers.find_gene_differences(\"../../Decombinator-Tags-FASTAs/\", \"human\", \"extended\", chain, region)\n",
    "    print(diff)\n",
    "    if type(diff) != str:\n",
    "        print(len(diff))"
   ]
  },
  {
   "cell_type": "code",
   "execution_count": 3,
   "metadata": {},
   "outputs": [
    {
     "name": "stdout",
     "output_type": "stream",
     "text": [
      "TRAV\n",
      "{'TRAVA', 'TRAV15', 'TRAV8-4', 'TRAV28', 'TRAVC', 'TRAV8-7', 'TRAV11-1', 'TRAV46', 'TRAV8-5', 'TRDV3', 'TRAV14-1', 'TRAV33', 'TRAV37', 'TRAV8-2', 'TRAV8-6-1', 'TRAV8-2/TRAV8-4', 'TRAVB', 'TRAV31', 'TRAV11', 'TRDV2', 'TRAV32', 'TRDV1'}\n",
      "22\n",
      "TRAJ\n",
      "{'TRAJ59', 'TRAJ51', 'TRAJ35', 'TRAJ55', 'TRAJ60', 'TRAJ1', 'TRAJ2', 'TRAJ58', 'TRAJ25', 'TRAJ61', 'TRAJ19'}\n",
      "11\n",
      "TRBV\n",
      "{'TRBVB', 'TRBV21-1', 'TRBVC', 'TRBV29/OR9-2', 'TRBVA', 'TRBV3-2', 'TRBV6-3', 'TRBV12-2', 'TRBV8-1', 'TRBVA/OR9-2', 'TRBV25/OR9-2', 'TRBV12-1', 'TRBV7-1', 'TRBV7-5', 'TRBV6-2', 'TRBV23-1', 'TRBV26', 'TRBV5-7', 'TRBV22/OR9-2', 'TRBV24/OR9-2', 'TRBV22-1', 'TRBV5-3', 'TRBV21/OR9-2', 'TRBV20/OR9-2', 'TRBV6-7', 'TRBV8-2', 'TRBV5-2', 'TRBV12-3', 'TRBV26/OR9-2', 'TRBV1', 'TRBV23/OR9-2', 'TRBV17'}\n",
      "32\n",
      "TRBJ\n",
      "{'TRBJ2-2P'}\n",
      "1\n",
      "TRGV\n",
      "{'TRGV5P', 'TRGV6', 'TRGV7', 'TRGVB', 'TRGV10', 'TRGV1', 'TRGV11', 'TRGVA'}\n",
      "8\n",
      "TRGJ\n",
      "TRGJ up to date.\n",
      "TRDV\n",
      "{'TRAV23/DV6', 'TRAV29/DV5', 'TRAV14/DV4', 'TRAV38-2/DV8', 'TRAV36/DV7'}\n",
      "5\n",
      "TRDJ\n",
      "TRDJ up to date.\n"
     ]
    }
   ],
   "source": [
    "for chain, region in categories.get_tr_gene_groups():\n",
    "    print(f\"TR{chain}{region}\")\n",
    "    diff = checkers.find_gene_differences(\"../../Decombinator-Tags-FASTAs/\", \"human\", \"original\", chain, region)\n",
    "    print(diff)\n",
    "    if type(diff) != str:\n",
    "        print(len(diff))"
   ]
  },
  {
   "cell_type": "code",
   "execution_count": 4,
   "metadata": {},
   "outputs": [
    {
     "name": "stdout",
     "output_type": "stream",
     "text": [
      "TRAV\n",
      "{'TRAV10D', 'TRAV15-3', 'TRAV14-2', 'TRAV11N', 'TRAV9N-1', 'TRAV12-3', 'TRAV3D-2', 'TRAV4N-3', 'TRAV6D-6', 'TRAV3-2', 'TRAV4D-2', 'TRAV12N-2', 'TRAV22', 'TRAV12-4', 'TRAV5-2', 'TRAV15N-3', 'TRAV4D-4', 'TRAV9D-2', 'TRAV8D-2', 'TRAV5D-4', 'TRAV7D-6', 'TRAV5D-2', 'TRAV9D-3', 'TRAV3D-3', 'TRAV13N-1', 'TRAV12-2', 'TRAV7D-4', 'TRAV9D-4', 'TRAV5N-2', 'TRAV9-4', 'TRAV13N-3', 'TRAV16N', 'TRAV12D-2', 'TRAV9N-2', 'TRAV6-6', 'TRAV5D-3', 'TRAV4N-4', 'TRAV13-3', 'TRAV14D-2', 'TRAV13D-4', 'TRAV15D-2/DV6D-2', 'TRAV6-7/DV9', 'TRAV6N-7', 'TRAV8N-2', 'TRAV5N-4', 'TRAV11D', 'TRAV6N-6', 'TRAV14N-1', 'TRAV12D-3', 'TRAV12N-3', 'TRAV7D-3', 'TRAV9D-1', 'TRAV20', 'TRAV6N-5', 'TRAV15D-3', 'TRAV9-3', 'TRAV7N-5', 'TRAV23', 'TRAV15N-1', 'TRAV16D/DV11', 'TRAV13N-2', 'TRAV18', 'TRAV9-2', 'TRAV14N-3', 'TRAV5N-3', 'TRAV9N-3', 'TRAV3N-3', 'TRAV15N-2', 'TRAV6D-5', 'TRAV7N-6', 'TRAV4-1', 'TRAV8D-1', 'TRAV7D-5', 'TRAV7N-4', 'TRAV9N-4', 'TRAV12N-1', 'TRAV13D-3', 'TRAV16', 'TRAV6D-7', 'TRAV4D-3', 'TRAV13D-1', 'TRAV7D-2', 'TRAV14N-2', 'TRAV14D-1', 'TRAV3-4', 'TRAV16/DV11', 'TRAV15D-1/DV6D-1', 'TRAV4-4/DV10', 'TRAV6D-4', 'TRAV5-3', 'TRAV13D-2', 'TRAV14D-3/DV8', 'TRAV10N', 'TRAV3N-2', 'TRAV6D-3', 'TRAV13N-4', 'TRAV12D-1'}\n",
      "97\n",
      "TRAJ\n",
      "{'TRAJ59', 'TRAJ8', 'TRAJ47', 'TRAJ41', 'TRAJ51', 'TRAJ7', 'TRAJ46', 'TRAJ29', 'TRAJ55', 'TRAJ36', 'TRAJ14', 'TRAJ60', 'TRAJ1', 'TRAJ20', 'TRAJ44', 'TRAJ25', 'TRAJ4', 'TRAJ3', 'TRAJ61', 'TRAJ54', 'TRAJ19'}\n",
      "21\n",
      "TRBV\n",
      "{'TRBV11', 'TRBV21', 'TRBV6', 'TRBV22', 'TRBV8', 'TRBV9', 'TRBV28', 'TRBV10', 'TRBV12-3', 'TRBV25', 'TRBV27', 'TRBV18', 'TRBV7'}\n",
      "13\n",
      "TRBJ\n",
      "{'TRBJ2-6', 'TRBJ1-7', 'TRBJ1-6'}\n",
      "3\n",
      "TRGV\n",
      "{'TRGVA', 'TRGV3'}\n",
      "2\n",
      "TRGJ\n",
      "TRGJ up to date.\n",
      "TRDV\n",
      "{'TRAV15D-2/DV6D-2', 'TRAV6-7/DV9', 'TRDV3', 'TRAV15D-1/DV6D-1'}\n",
      "4\n",
      "TRDJ\n",
      "TRDJ up to date.\n"
     ]
    }
   ],
   "source": [
    "for chain, region in categories.get_tr_gene_groups():\n",
    "    print(f\"TR{chain}{region}\")\n",
    "    diff = checkers.find_gene_differences(\"../../Decombinator-Tags-FASTAs/\", \"mouse\", \"original\", chain, region)\n",
    "    print(diff)\n",
    "    if type(diff) != str:\n",
    "        print(len(diff))"
   ]
  },
  {
   "cell_type": "markdown",
   "metadata": {},
   "source": [
    "---\n",
    "2. Genes that cannot be decombined by present strategy"
   ]
  },
  {
   "cell_type": "code",
   "execution_count": 5,
   "metadata": {},
   "outputs": [
    {
     "name": "stdout",
     "output_type": "stream",
     "text": [
      "Mean tag counts = 236.9344262295082 (SD 47.502154861375146) for Homo sapiens, TRAV across 61 genes.\n",
      "Mean tag counts = 41.85245901639344 (SD 3.258462201783456) for Homo sapiens, TRAJ across 61 genes.\n",
      "Genes with no valid decombinator tag for Homo sapiens, TRBV: {'TRBV6-3', 'TRBV6-2'}.                         \n",
      " 75/77 decombinable.\n",
      "Mean tag counts = 30.571428571428573 (SD 1.9897697538834458) for Homo sapiens, TRBJ across 14 genes.\n",
      "Mean tag counts = 217.57142857142858 (SD 65.0557061137544) for Homo sapiens, TRGV across 14 genes.\n",
      "Mean tag counts = 29.4 (SD 15.041276541570532) for Homo sapiens, TRGJ across 5 genes.\n",
      "Mean tag counts = 265.625 (SD 4.525966747557918) for Homo sapiens, TRDV across 8 genes.\n",
      "Mean tag counts = 34.0 (SD 4.06201920231798) for Homo sapiens, TRDJ across 4 genes.\n",
      "Genes with no valid decombinator tag for Mus musculus, TRAV: {'TRAV14N-1', 'TRAV7D-4', 'TRAV16D/DV11', 'TRAV14N-2', 'TRAV14D-3/DV8', 'TRAV13N-2', 'TRAV14N-3', 'TRAV12-1', 'TRAV12N-1', 'TRAV14-2', 'TRAV10N', 'TRAV14D-1', 'TRAV9-1', 'TRAV11D', 'TRAV6N-5', 'TRAV5D-4', 'TRAV6D-5'}.                         \n",
      " 115/132 decombinable.\n",
      "Mean tag counts = 40.35 (SD 7.259074780346781) for Mus musculus, TRAJ across 60 genes.\n",
      "Mean tag counts = 257.6 (SD 20.261434161621292) for Mus musculus, TRBV across 35 genes.\n",
      "Mean tag counts = 30.214285714285715 (SD 1.7393993802694176) for Mus musculus, TRBJ across 14 genes.\n",
      "Mean tag counts = 197.875 (SD 83.91727697560259) for Mus musculus, TRGV across 8 genes.\n",
      "Mean tag counts = 26.0 (SD 11.554220008291344) for Mus musculus, TRGJ across 4 genes.\n",
      "Mean tag counts = 207.8125 (SD 73.14900781111115) for Mus musculus, TRDV across 16 genes.\n",
      "Mean tag counts = 36.0 (SD 4.0) for Mus musculus, TRDJ across 2 genes.\n"
     ]
    }
   ],
   "source": [
    "TAG_LEN = 20 # Specify tag lengths\n",
    "for species in categories.get_species():\n",
    "    for chain, region in categories.get_tr_gene_groups():\n",
    "        alleles_functionality, alleles_fastas = query.get_tr_alleles_for_gene_group_for_species(chain, region, species)\n",
    "        gene_group_tags = generators.gen_tags(alleles_fastas, TAG_LEN)\n",
    "        unique_tags = generators.find_unique_tags(gene_group_tags)\n",
    "        undecombinable_genes = generators.find_undecombinable_genes(alleles_fastas, unique_tags)\n",
    "        if len(undecombinable_genes) == 0:\n",
    "            decombineable_genes = len([i for i in unique_tags.keys()])\n",
    "            tag_counts = [len(i) for i in unique_tags.values()]\n",
    "            sum_tag_counts = sum(tag_counts)\n",
    "            mean_gene_tags = sum_tag_counts / decombineable_genes\n",
    "            std_dev_gene_tags = (sum([(i - mean_gene_tags)**2 for i in tag_counts]) / decombineable_genes)**(1/2)\n",
    "            print(f\"Mean tag counts = {mean_gene_tags} (SD {std_dev_gene_tags}) for {species}, TR{chain}{region} across {decombineable_genes} genes.\")\n",
    "        else:\n",
    "            print(f\"Genes with no valid decombinator tag for {species}, TR{chain}{region}: {undecombinable_genes}. \\\n",
    "                        \\n {len(set(unique_tags))}/{len(set(alleles_fastas))} decombinable.\")"
   ]
  },
  {
   "cell_type": "markdown",
   "metadata": {},
   "source": [
    "---\n",
    "3. Are there really 132 TRAV mouse genes?"
   ]
  },
  {
   "cell_type": "code",
   "execution_count": 6,
   "metadata": {},
   "outputs": [],
   "source": [
    "alleles_functionality, alleles_fastas = query.get_tr_alleles_for_gene_group_for_species(\"A\", \"V\", \"Mus musculus\")"
   ]
  },
  {
   "cell_type": "code",
   "execution_count": 7,
   "metadata": {},
   "outputs": [
    {
     "data": {
      "text/plain": [
       "['TRAV1',\n",
       " 'TRAV10',\n",
       " 'TRAV10D',\n",
       " 'TRAV10N',\n",
       " 'TRAV11',\n",
       " 'TRAV11D',\n",
       " 'TRAV11N',\n",
       " 'TRAV12-1',\n",
       " 'TRAV12-2',\n",
       " 'TRAV12-3',\n",
       " 'TRAV12-4',\n",
       " 'TRAV12D-1',\n",
       " 'TRAV12D-2',\n",
       " 'TRAV12D-3',\n",
       " 'TRAV12N-1',\n",
       " 'TRAV12N-2',\n",
       " 'TRAV12N-3',\n",
       " 'TRAV13-1',\n",
       " 'TRAV13-2',\n",
       " 'TRAV13-3',\n",
       " 'TRAV13-4/DV7',\n",
       " 'TRAV13-5',\n",
       " 'TRAV13D-1',\n",
       " 'TRAV13D-2',\n",
       " 'TRAV13D-3',\n",
       " 'TRAV13D-4',\n",
       " 'TRAV13N-1',\n",
       " 'TRAV13N-2',\n",
       " 'TRAV13N-3',\n",
       " 'TRAV13N-4',\n",
       " 'TRAV14-1',\n",
       " 'TRAV14-2',\n",
       " 'TRAV14-3',\n",
       " 'TRAV14D-1',\n",
       " 'TRAV14D-2',\n",
       " 'TRAV14D-3/DV8',\n",
       " 'TRAV14N-1',\n",
       " 'TRAV14N-2',\n",
       " 'TRAV14N-3',\n",
       " 'TRAV15-1/DV6-1',\n",
       " 'TRAV15-2/DV6-2',\n",
       " 'TRAV15-3',\n",
       " 'TRAV15D-1/DV6D-1',\n",
       " 'TRAV15D-2/DV6D-2',\n",
       " 'TRAV15D-3',\n",
       " 'TRAV15N-1',\n",
       " 'TRAV15N-2',\n",
       " 'TRAV15N-3',\n",
       " 'TRAV16',\n",
       " 'TRAV16D/DV11',\n",
       " 'TRAV16N',\n",
       " 'TRAV17',\n",
       " 'TRAV18',\n",
       " 'TRAV19',\n",
       " 'TRAV2',\n",
       " 'TRAV20',\n",
       " 'TRAV21/DV12',\n",
       " 'TRAV22',\n",
       " 'TRAV23',\n",
       " 'TRAV3-1',\n",
       " 'TRAV3-2',\n",
       " 'TRAV3-3',\n",
       " 'TRAV3-4',\n",
       " 'TRAV3D-2',\n",
       " 'TRAV3D-3',\n",
       " 'TRAV3N-2',\n",
       " 'TRAV3N-3',\n",
       " 'TRAV4-1',\n",
       " 'TRAV4-2',\n",
       " 'TRAV4-3',\n",
       " 'TRAV4-4/DV10',\n",
       " 'TRAV4D-2',\n",
       " 'TRAV4D-3',\n",
       " 'TRAV4D-4',\n",
       " 'TRAV4N-3',\n",
       " 'TRAV4N-4',\n",
       " 'TRAV5-1',\n",
       " 'TRAV5-2',\n",
       " 'TRAV5-3',\n",
       " 'TRAV5-4',\n",
       " 'TRAV5D-2',\n",
       " 'TRAV5D-3',\n",
       " 'TRAV5D-4',\n",
       " 'TRAV5N-2',\n",
       " 'TRAV5N-3',\n",
       " 'TRAV5N-4',\n",
       " 'TRAV6-1',\n",
       " 'TRAV6-2',\n",
       " 'TRAV6-3',\n",
       " 'TRAV6-4',\n",
       " 'TRAV6-5',\n",
       " 'TRAV6-6',\n",
       " 'TRAV6-7/DV9',\n",
       " 'TRAV6D-3',\n",
       " 'TRAV6D-4',\n",
       " 'TRAV6D-5',\n",
       " 'TRAV6D-6',\n",
       " 'TRAV6D-7',\n",
       " 'TRAV6N-5',\n",
       " 'TRAV6N-6',\n",
       " 'TRAV6N-7',\n",
       " 'TRAV7-1',\n",
       " 'TRAV7-2',\n",
       " 'TRAV7-3',\n",
       " 'TRAV7-4',\n",
       " 'TRAV7-5',\n",
       " 'TRAV7-6',\n",
       " 'TRAV7D-2',\n",
       " 'TRAV7D-3',\n",
       " 'TRAV7D-4',\n",
       " 'TRAV7D-5',\n",
       " 'TRAV7D-6',\n",
       " 'TRAV7N-4',\n",
       " 'TRAV7N-5',\n",
       " 'TRAV7N-6',\n",
       " 'TRAV8-1',\n",
       " 'TRAV8-2',\n",
       " 'TRAV8D-1',\n",
       " 'TRAV8D-2',\n",
       " 'TRAV8N-2',\n",
       " 'TRAV9-1',\n",
       " 'TRAV9-2',\n",
       " 'TRAV9-3',\n",
       " 'TRAV9-4',\n",
       " 'TRAV9D-1',\n",
       " 'TRAV9D-2',\n",
       " 'TRAV9D-3',\n",
       " 'TRAV9D-4',\n",
       " 'TRAV9N-1',\n",
       " 'TRAV9N-2',\n",
       " 'TRAV9N-3',\n",
       " 'TRAV9N-4']"
      ]
     },
     "execution_count": 7,
     "metadata": {},
     "output_type": "execute_result"
    }
   ],
   "source": [
    "checkers.collapse_alleles(alleles_fastas)"
   ]
  },
  {
   "cell_type": "code",
   "execution_count": null,
   "metadata": {},
   "outputs": [],
   "source": []
  }
 ],
 "metadata": {
  "kernelspec": {
   "display_name": "decombinator",
   "language": "python",
   "name": "python3"
  },
  "language_info": {
   "codemirror_mode": {
    "name": "ipython",
    "version": 3
   },
   "file_extension": ".py",
   "mimetype": "text/x-python",
   "name": "python",
   "nbconvert_exporter": "python",
   "pygments_lexer": "ipython3",
   "version": "3.11.4"
  }
 },
 "nbformat": 4,
 "nbformat_minor": 2
}
