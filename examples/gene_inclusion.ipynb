{
 "cells": [
  {
   "cell_type": "markdown",
   "metadata": {},
   "source": [
    "Notebook showing:\n",
    "1. Genes presently not decombined by decombinator that exist on IGMT\n",
    "2. Genes that cannot be decombined"
   ]
  },
  {
   "cell_type": "code",
   "execution_count": 1,
   "metadata": {},
   "outputs": [],
   "source": [
    "from tagbrewer.tag import generators, checkers, query, brewers\n",
    "from tagbrewer.utils import categories"
   ]
  },
  {
   "cell_type": "markdown",
   "metadata": {},
   "source": [
    "---\n",
    "1. Differences in genes between tags and IMGT"
   ]
  },
  {
   "cell_type": "code",
   "execution_count": 2,
   "metadata": {},
   "outputs": [
    {
     "name": "stdout",
     "output_type": "stream",
     "text": [
      "TRAV\n",
      "{'TRAVA', 'TRDV2', 'TRAV8-4', 'TRDV3', 'TRAV46', 'TRAV8-6-1', 'TRAVC', 'TRAV11-1', 'TRDV1', 'TRAVB', 'TRAV14-1'}\n",
      "11\n",
      "TRAJ\n",
      "TRAJ up to date.\n",
      "TRBV\n",
      "{'TRBV25/OR9-2', 'TRBV29/OR9-2', 'TRBV21/OR9-2', 'TRBV3-2', 'TRBV20/OR9-2', 'TRBVA/OR9-2', 'TRBV26/OR9-2', 'TRBV23/OR9-2', 'TRBV22/OR9-2', 'TRBV12-3', 'TRBV24/OR9-2', 'TRBV6-2', 'TRBV6-3', 'TRBVC'}\n",
      "14\n",
      "TRBJ\n",
      "TRBJ up to date.\n"
     ]
    }
   ],
   "source": [
    "for chain, region in categories.get_tr_gene_groups()[:4]:\n",
    "    print(f\"TR{chain}{region}\")\n",
    "    diff = checkers.find_gene_differences(\"../../Decombinator-Tags-FASTAs/\", \"human\", \"extended\", chain, region)\n",
    "    print(diff)\n",
    "    if type(diff) != str:\n",
    "        print(len(diff))"
   ]
  },
  {
   "cell_type": "code",
   "execution_count": 3,
   "metadata": {},
   "outputs": [
    {
     "name": "stdout",
     "output_type": "stream",
     "text": [
      "TRAV\n",
      "{'TRAVA', 'TRAV28', 'TRDV2', 'TRAV8-4', 'TRAV11', 'TRDV3', 'TRAV8-2/TRAV8-4', 'TRAV15', 'TRAV46', 'TRAV31', 'TRAV8-6-1', 'TRAVC', 'TRAV8-2', 'TRAV11-1', 'TRDV1', 'TRAV32', 'TRAV8-7', 'TRAV33', 'TRAV37', 'TRAVB', 'TRAV14-1', 'TRAV8-5'}\n",
      "22\n",
      "TRAJ\n",
      "{'TRAJ2', 'TRAJ1', 'TRAJ35', 'TRAJ58', 'TRAJ19', 'TRAJ25', 'TRAJ60', 'TRAJ61', 'TRAJ59', 'TRAJ51', 'TRAJ55'}\n",
      "11\n",
      "TRBV\n",
      "{'TRBV5-3', 'TRBVA', 'TRBV26', 'TRBV1', 'TRBV25/OR9-2', 'TRBV7-1', 'TRBV29/OR9-2', 'TRBV6-7', 'TRBV21/OR9-2', 'TRBV8-2', 'TRBV3-2', 'TRBV20/OR9-2', 'TRBV12-2', 'TRBV7-5', 'TRBV17', 'TRBV8-1', 'TRBV12-1', 'TRBVA/OR9-2', 'TRBVB', 'TRBV26/OR9-2', 'TRBV23/OR9-2', 'TRBV22/OR9-2', 'TRBV22-1', 'TRBV5-7', 'TRBV12-3', 'TRBV5-2', 'TRBV24/OR9-2', 'TRBV6-2', 'TRBV6-3', 'TRBVC', 'TRBV23-1', 'TRBV21-1'}\n",
      "32\n",
      "TRBJ\n",
      "{'TRBJ2-2P'}\n",
      "1\n",
      "TRGV\n",
      "{'TRGV7', 'TRGVB', 'TRGV5P', 'TRGV6', 'TRGV1', 'TRGVA', 'TRGV10', 'TRGV11'}\n",
      "8\n",
      "TRGJ\n",
      "TRGJ up to date.\n",
      "TRDV\n",
      "{'TRAV38-2/DV8', 'TRAV36/DV7', 'TRAV23/DV6', 'TRAV14/DV4', 'TRAV29/DV5'}\n",
      "5\n",
      "TRDJ\n",
      "TRDJ up to date.\n"
     ]
    }
   ],
   "source": [
    "for chain, region in categories.get_tr_gene_groups():\n",
    "    print(f\"TR{chain}{region}\")\n",
    "    diff = checkers.find_gene_differences(\"../../Decombinator-Tags-FASTAs/\", \"human\", \"original\", chain, region)\n",
    "    print(diff)\n",
    "    if type(diff) != str:\n",
    "        print(len(diff))"
   ]
  },
  {
   "cell_type": "code",
   "execution_count": 4,
   "metadata": {},
   "outputs": [
    {
     "name": "stdout",
     "output_type": "stream",
     "text": [
      "TRAV\n",
      "{'TRAV20', 'TRAV5D-4', 'TRAV16N', 'TRAV13N-4', 'TRAV8D-1', 'TRAV12-2', 'TRAV4N-4', 'TRAV3D-2', 'TRAV3-2', 'TRAV15D-3', 'TRAV3N-2', 'TRAV9D-3', 'TRAV7N-4', 'TRAV4D-2', 'TRAV13D-3', 'TRAV5-2', 'TRAV6D-4', 'TRAV14D-2', 'TRAV4-4/DV10', 'TRAV13N-3', 'TRAV9N-4', 'TRAV11D', 'TRAV6-7/DV9', 'TRAV6D-7', 'TRAV14N-2', 'TRAV3-4', 'TRAV9-4', 'TRAV5D-2', 'TRAV6N-5', 'TRAV15-3', 'TRAV7N-5', 'TRAV15D-2/DV6D-2', 'TRAV10N', 'TRAV7D-5', 'TRAV5-3', 'TRAV12D-2', 'TRAV13N-2', 'TRAV14D-3/DV8', 'TRAV12-3', 'TRAV4D-3', 'TRAV4D-4', 'TRAV9N-1', 'TRAV9D-1', 'TRAV15N-3', 'TRAV9-3', 'TRAV9-2', 'TRAV12D-3', 'TRAV18', 'TRAV22', 'TRAV6D-5', 'TRAV6N-6', 'TRAV12D-1', 'TRAV8N-2', 'TRAV16D/DV11', 'TRAV12N-2', 'TRAV16', 'TRAV13D-1', 'TRAV11N', 'TRAV14N-1', 'TRAV14-2', 'TRAV3D-3', 'TRAV7D-3', 'TRAV14N-3', 'TRAV5N-3', 'TRAV7N-6', 'TRAV14D-1', 'TRAV6D-6', 'TRAV23', 'TRAV9D-2', 'TRAV12N-1', 'TRAV6D-3', 'TRAV6-6', 'TRAV7D-4', 'TRAV5D-3', 'TRAV5N-4', 'TRAV15N-1', 'TRAV13D-4', 'TRAV13D-2', 'TRAV9N-2', 'TRAV13-3', 'TRAV12-4', 'TRAV6N-7', 'TRAV15N-2', 'TRAV4N-3', 'TRAV15D-1/DV6D-1', 'TRAV3N-3', 'TRAV12N-3', 'TRAV13N-1', 'TRAV10D', 'TRAV7D-2', 'TRAV7D-6', 'TRAV9D-4', 'TRAV5N-2', 'TRAV8D-2', 'TRAV9N-3', 'TRAV4-1', 'TRAV16/DV11'}\n",
      "97\n",
      "TRAJ\n",
      "{'TRAJ54', 'TRAJ1', 'TRAJ46', 'TRAJ7', 'TRAJ41', 'TRAJ19', 'TRAJ25', 'TRAJ4', 'TRAJ36', 'TRAJ47', 'TRAJ14', 'TRAJ44', 'TRAJ60', 'TRAJ20', 'TRAJ3', 'TRAJ29', 'TRAJ61', 'TRAJ59', 'TRAJ51', 'TRAJ8', 'TRAJ55'}\n",
      "21\n",
      "TRBV\n",
      "{'TRBV21', 'TRBV6', 'TRBV28', 'TRBV10', 'TRBV7', 'TRBV12-3', 'TRBV18', 'TRBV27', 'TRBV9', 'TRBV22', 'TRBV11', 'TRBV25', 'TRBV8'}\n",
      "13\n",
      "TRBJ\n",
      "{'TRBJ1-6', 'TRBJ1-7', 'TRBJ2-6'}\n",
      "3\n",
      "TRGV\n",
      "{'TRGVA', 'TRGV3'}\n",
      "2\n",
      "TRGJ\n",
      "TRGJ up to date.\n",
      "TRDV\n",
      "{'TRAV15D-2/DV6D-2', 'TRDV3', 'TRAV15D-1/DV6D-1', 'TRAV6-7/DV9'}\n",
      "4\n",
      "TRDJ\n",
      "TRDJ up to date.\n"
     ]
    }
   ],
   "source": [
    "for chain, region in categories.get_tr_gene_groups():\n",
    "    print(f\"TR{chain}{region}\")\n",
    "    diff = checkers.find_gene_differences(\"../../Decombinator-Tags-FASTAs/\", \"mouse\", \"original\", chain, region)\n",
    "    print(diff)\n",
    "    if type(diff) != str:\n",
    "        print(len(diff))"
   ]
  },
  {
   "cell_type": "markdown",
   "metadata": {},
   "source": [
    "---\n",
    "2. Genes that cannot be decombined by present strategy"
   ]
  },
  {
   "cell_type": "code",
   "execution_count": 5,
   "metadata": {},
   "outputs": [
    {
     "name": "stdout",
     "output_type": "stream",
     "text": [
      "Homo sapiens A\n",
      "0 set()\n",
      "2 {'TRAV8-2', 'TRAV8-4'}\n",
      "Homo sapiens B\n",
      "0 set()\n",
      "10 {'TRBV20/OR9-2', 'TRBV24-1', 'TRBV12-3', 'TRBV20-1', 'TRBV24/OR9-2', 'TRBV3-1', 'TRBV12-4', 'TRBV3-2', 'TRBV6-2', 'TRBV6-3'}\n",
      "Mus musculus A\n",
      "0 set()\n",
      "87 {'TRAV15-1/DV6-1', 'TRAV13-4/DV7', 'TRAV5D-4', 'TRAV16N', 'TRAV13N-4', 'TRAV8D-1', 'TRAV12-2', 'TRAV4N-4', 'TRAV3D-2', 'TRAV3-2', 'TRAV3N-2', 'TRAV9D-3', 'TRAV7N-4', 'TRAV13D-3', 'TRAV14D-2', 'TRAV4-4/DV10', 'TRAV13N-3', 'TRAV6-5', 'TRAV9N-4', 'TRAV11D', 'TRAV6-7/DV9', 'TRAV6D-7', 'TRAV14N-2', 'TRAV3-4', 'TRAV9-4', 'TRAV5D-2', 'TRAV6N-5', 'TRAV15D-2/DV6D-2', 'TRAV10N', 'TRAV7D-5', 'TRAV11', 'TRAV5-3', 'TRAV12D-2', 'TRAV13N-2', 'TRAV14D-3/DV8', 'TRAV7-5', 'TRAV12-3', 'TRAV4D-3', 'TRAV4D-4', 'TRAV9D-1', 'TRAV7-4', 'TRAV9-3', 'TRAV9-2', 'TRAV6D-5', 'TRAV15-2/DV6-2', 'TRAV12D-1', 'TRAV8N-2', 'TRAV16D/DV11', 'TRAV10', 'TRAV13D-1', 'TRAV7-2', 'TRAV11N', 'TRAV14N-1', 'TRAV14-2', 'TRAV13-1', 'TRAV3D-3', 'TRAV14N-3', 'TRAV3-3', 'TRAV14D-1', 'TRAV6D-6', 'TRAV9D-2', 'TRAV12N-1', 'TRAV6D-3', 'TRAV6-6', 'TRAV7D-4', 'TRAV5D-3', 'TRAV5N-4', 'TRAV13D-4', 'TRAV8-1', 'TRAV9N-2', 'TRAV13-3', 'TRAV4-3', 'TRAV6N-7', 'TRAV15N-2', 'TRAV3N-3', 'TRAV12N-3', 'TRAV13-2', 'TRAV13N-1', 'TRAV10D', 'TRAV7D-2', 'TRAV3-1', 'TRAV12-1', 'TRAV9D-4', 'TRAV6-3', 'TRAV5N-2', 'TRAV9-1', 'TRAV8D-2'}\n",
      "Mus musculus B\n",
      "0 set()\n",
      "0 set()\n"
     ]
    }
   ],
   "source": [
    "for species in categories.get_species():\n",
    "    for chain in [\"A\", \"B\"]:\n",
    "        print(species, chain)\n",
    "        j_genes = brewers.JBrewer(chain, species).find_undecombinable()\n",
    "        print(len(j_genes), j_genes)\n",
    "        v_genes = brewers.VBrewer(chain, species).find_undecombinable()\n",
    "        print(len(v_genes), v_genes)"
   ]
  },
  {
   "cell_type": "markdown",
   "metadata": {},
   "source": [
    "2a. If only functional genes are kept"
   ]
  },
  {
   "cell_type": "code",
   "execution_count": 2,
   "metadata": {},
   "outputs": [
    {
     "name": "stdout",
     "output_type": "stream",
     "text": [
      "Homo sapiens A\n",
      "0 set()\n",
      "2 {'TRAV8-2', 'TRAV8-4'}\n",
      "Homo sapiens B\n",
      "0 set()\n",
      "4 {'TRBV12-3', 'TRBV6-2', 'TRBV6-3', 'TRBV12-4'}\n",
      "Mus musculus A\n"
     ]
    },
    {
     "ename": "KeyError",
     "evalue": "'01'",
     "output_type": "error",
     "traceback": [
      "\u001b[1;31m---------------------------------------------------------------------------\u001b[0m",
      "\u001b[1;31mKeyError\u001b[0m                                  Traceback (most recent call last)",
      "Cell \u001b[1;32mIn[2], line 4\u001b[0m\n\u001b[0;32m      2\u001b[0m \u001b[38;5;28;01mfor\u001b[39;00m chain \u001b[38;5;129;01min\u001b[39;00m [\u001b[38;5;124m\"\u001b[39m\u001b[38;5;124mA\u001b[39m\u001b[38;5;124m\"\u001b[39m, \u001b[38;5;124m\"\u001b[39m\u001b[38;5;124mB\u001b[39m\u001b[38;5;124m\"\u001b[39m]:\n\u001b[0;32m      3\u001b[0m     \u001b[38;5;28mprint\u001b[39m(species, chain)\n\u001b[1;32m----> 4\u001b[0m     j_genes \u001b[38;5;241m=\u001b[39m \u001b[43mbrewers\u001b[49m\u001b[38;5;241;43m.\u001b[39;49m\u001b[43mJBrewer\u001b[49m\u001b[43m(\u001b[49m\u001b[43mchain\u001b[49m\u001b[43m,\u001b[49m\u001b[43m \u001b[49m\u001b[43mspecies\u001b[49m\u001b[43m,\u001b[49m\u001b[43m \u001b[49m\u001b[43mfunctional\u001b[49m\u001b[38;5;241;43m=\u001b[39;49m\u001b[38;5;28;43;01mTrue\u001b[39;49;00m\u001b[43m)\u001b[49m\u001b[38;5;241;43m.\u001b[39;49m\u001b[43mfind_undecombinable\u001b[49m\u001b[43m(\u001b[49m\u001b[43m)\u001b[49m\n\u001b[0;32m      5\u001b[0m     \u001b[38;5;28mprint\u001b[39m(\u001b[38;5;28mlen\u001b[39m(j_genes), j_genes)\n\u001b[0;32m      6\u001b[0m     v_genes \u001b[38;5;241m=\u001b[39m brewers\u001b[38;5;241m.\u001b[39mVBrewer(chain, species, functional\u001b[38;5;241m=\u001b[39m\u001b[38;5;28;01mTrue\u001b[39;00m)\u001b[38;5;241m.\u001b[39mfind_undecombinable()\n",
      "File \u001b[1;32m~\\OneDrive - University College London\\work\\projects\\decombinator\\tagbrewer\\src\\tagbrewer\\tag\\brewers.py:44\u001b[0m, in \u001b[0;36mBrewer.find_undecombinable\u001b[1;34m(self)\u001b[0m\n\u001b[0;32m     43\u001b[0m \u001b[38;5;28;01mdef\u001b[39;00m \u001b[38;5;21mfind_undecombinable\u001b[39m(\u001b[38;5;28mself\u001b[39m):\n\u001b[1;32m---> 44\u001b[0m     unique_tags \u001b[38;5;241m=\u001b[39m \u001b[38;5;28;43mself\u001b[39;49m\u001b[38;5;241;43m.\u001b[39;49m\u001b[43mbrew_tags\u001b[49m\u001b[43m(\u001b[49m\u001b[43m)\u001b[49m\n\u001b[0;32m     45\u001b[0m     undecombinable \u001b[38;5;241m=\u001b[39m \u001b[38;5;28mset\u001b[39m([gene \u001b[38;5;28;01mfor\u001b[39;00m gene \u001b[38;5;129;01min\u001b[39;00m unique_tags\u001b[38;5;241m.\u001b[39mkeys()\n\u001b[0;32m     46\u001b[0m                           \u001b[38;5;28;01mif\u001b[39;00m \u001b[38;5;28mlen\u001b[39m(unique_tags[gene]) \u001b[38;5;241m==\u001b[39m \u001b[38;5;241m0\u001b[39m])\n\u001b[0;32m     47\u001b[0m     \u001b[38;5;28;01mreturn\u001b[39;00m undecombinable\n",
      "File \u001b[1;32m~\\OneDrive - University College London\\work\\projects\\decombinator\\tagbrewer\\src\\tagbrewer\\tag\\brewers.py:29\u001b[0m, in \u001b[0;36mBrewer.brew_tags\u001b[1;34m(self)\u001b[0m\n\u001b[0;32m     28\u001b[0m \u001b[38;5;28;01mdef\u001b[39;00m \u001b[38;5;21mbrew_tags\u001b[39m(\u001b[38;5;28mself\u001b[39m) \u001b[38;5;241m-\u001b[39m\u001b[38;5;241m>\u001b[39m \u001b[38;5;28mdict\u001b[39m:\n\u001b[1;32m---> 29\u001b[0m     all_tags \u001b[38;5;241m=\u001b[39m \u001b[38;5;28;43mself\u001b[39;49m\u001b[38;5;241;43m.\u001b[39;49m\u001b[43mbrew_all_tags\u001b[49m\u001b[43m(\u001b[49m\u001b[43m)\u001b[49m\n\u001b[0;32m     30\u001b[0m     unique_tags \u001b[38;5;241m=\u001b[39m {gene: [] \u001b[38;5;28;01mfor\u001b[39;00m gene \u001b[38;5;129;01min\u001b[39;00m all_tags\u001b[38;5;241m.\u001b[39mkeys()}\n\u001b[0;32m     31\u001b[0m     \u001b[38;5;28;01mfor\u001b[39;00m gene, possible_tags \u001b[38;5;129;01min\u001b[39;00m all_tags\u001b[38;5;241m.\u001b[39mitems():\n",
      "File \u001b[1;32m~\\OneDrive - University College London\\work\\projects\\decombinator\\tagbrewer\\src\\tagbrewer\\tag\\brewers.py:119\u001b[0m, in \u001b[0;36mJBrewer.brew_all_tags\u001b[1;34m(self)\u001b[0m\n\u001b[0;32m    117\u001b[0m gene_group_tags \u001b[38;5;241m=\u001b[39m {}\n\u001b[0;32m    118\u001b[0m \u001b[38;5;28;01mfor\u001b[39;00m gene, alleles \u001b[38;5;129;01min\u001b[39;00m \u001b[38;5;28mself\u001b[39m\u001b[38;5;241m.\u001b[39mfasta_dicts\u001b[38;5;241m.\u001b[39mitems():\n\u001b[1;32m--> 119\u001b[0m     prototypical_fasta \u001b[38;5;241m=\u001b[39m \u001b[43malleles\u001b[49m\u001b[43m[\u001b[49m\u001b[38;5;124;43m'\u001b[39;49m\u001b[38;5;124;43m01\u001b[39;49m\u001b[38;5;124;43m'\u001b[39;49m\u001b[43m]\u001b[49m\n\u001b[0;32m    120\u001b[0m     sliced_fasta \u001b[38;5;241m=\u001b[39m prototypical_fasta[REGION_DELS:]\n\u001b[0;32m    122\u001b[0m     possible_tags \u001b[38;5;241m=\u001b[39m [i \u001b[38;5;28;01mfor\u001b[39;00m i \u001b[38;5;129;01min\u001b[39;00m strings\u001b[38;5;241m.\u001b[39mslice_iterator(sliced_fasta, \u001b[38;5;28mself\u001b[39m\u001b[38;5;241m.\u001b[39mtag_len)]\n",
      "\u001b[1;31mKeyError\u001b[0m: '01'"
     ]
    }
   ],
   "source": [
    "for species in categories.get_species():\n",
    "    for chain in [\"A\", \"B\"]:\n",
    "        print(species, chain)\n",
    "        j_genes = brewers.JBrewer(chain, species, functional=True).find_undecombinable()\n",
    "        print(len(j_genes), j_genes)\n",
    "        v_genes = brewers.VBrewer(chain, species, functional=True).find_undecombinable()\n",
    "        print(len(v_genes), v_genes)"
   ]
  },
  {
   "cell_type": "markdown",
   "metadata": {},
   "source": [
    "---\n",
    "3. Are there really 132 TRAV mouse genes?"
   ]
  },
  {
   "cell_type": "code",
   "execution_count": 6,
   "metadata": {},
   "outputs": [],
   "source": [
    "alleles_functionality, alleles_fastas = query.get_tr_alleles(\"A\", \"V\", \"Mus musculus\")"
   ]
  },
  {
   "cell_type": "code",
   "execution_count": 7,
   "metadata": {},
   "outputs": [
    {
     "data": {
      "text/plain": [
       "['TRAV1',\n",
       " 'TRAV10',\n",
       " 'TRAV10D',\n",
       " 'TRAV10N',\n",
       " 'TRAV11',\n",
       " 'TRAV11D',\n",
       " 'TRAV11N',\n",
       " 'TRAV12-1',\n",
       " 'TRAV12-2',\n",
       " 'TRAV12-3',\n",
       " 'TRAV12-4',\n",
       " 'TRAV12D-1',\n",
       " 'TRAV12D-2',\n",
       " 'TRAV12D-3',\n",
       " 'TRAV12N-1',\n",
       " 'TRAV12N-2',\n",
       " 'TRAV12N-3',\n",
       " 'TRAV13-1',\n",
       " 'TRAV13-2',\n",
       " 'TRAV13-3',\n",
       " 'TRAV13-4/DV7',\n",
       " 'TRAV13-5',\n",
       " 'TRAV13D-1',\n",
       " 'TRAV13D-2',\n",
       " 'TRAV13D-3',\n",
       " 'TRAV13D-4',\n",
       " 'TRAV13N-1',\n",
       " 'TRAV13N-2',\n",
       " 'TRAV13N-3',\n",
       " 'TRAV13N-4',\n",
       " 'TRAV14-1',\n",
       " 'TRAV14-2',\n",
       " 'TRAV14-3',\n",
       " 'TRAV14D-1',\n",
       " 'TRAV14D-2',\n",
       " 'TRAV14D-3/DV8',\n",
       " 'TRAV14N-1',\n",
       " 'TRAV14N-2',\n",
       " 'TRAV14N-3',\n",
       " 'TRAV15-1/DV6-1',\n",
       " 'TRAV15-2/DV6-2',\n",
       " 'TRAV15-3',\n",
       " 'TRAV15D-1/DV6D-1',\n",
       " 'TRAV15D-2/DV6D-2',\n",
       " 'TRAV15D-3',\n",
       " 'TRAV15N-1',\n",
       " 'TRAV15N-2',\n",
       " 'TRAV15N-3',\n",
       " 'TRAV16',\n",
       " 'TRAV16D/DV11',\n",
       " 'TRAV16N',\n",
       " 'TRAV17',\n",
       " 'TRAV18',\n",
       " 'TRAV19',\n",
       " 'TRAV2',\n",
       " 'TRAV20',\n",
       " 'TRAV21/DV12',\n",
       " 'TRAV22',\n",
       " 'TRAV23',\n",
       " 'TRAV3-1',\n",
       " 'TRAV3-2',\n",
       " 'TRAV3-3',\n",
       " 'TRAV3-4',\n",
       " 'TRAV3D-2',\n",
       " 'TRAV3D-3',\n",
       " 'TRAV3N-2',\n",
       " 'TRAV3N-3',\n",
       " 'TRAV4-1',\n",
       " 'TRAV4-2',\n",
       " 'TRAV4-3',\n",
       " 'TRAV4-4/DV10',\n",
       " 'TRAV4D-2',\n",
       " 'TRAV4D-3',\n",
       " 'TRAV4D-4',\n",
       " 'TRAV4N-3',\n",
       " 'TRAV4N-4',\n",
       " 'TRAV5-1',\n",
       " 'TRAV5-2',\n",
       " 'TRAV5-3',\n",
       " 'TRAV5-4',\n",
       " 'TRAV5D-2',\n",
       " 'TRAV5D-3',\n",
       " 'TRAV5D-4',\n",
       " 'TRAV5N-2',\n",
       " 'TRAV5N-3',\n",
       " 'TRAV5N-4',\n",
       " 'TRAV6-1',\n",
       " 'TRAV6-2',\n",
       " 'TRAV6-3',\n",
       " 'TRAV6-4',\n",
       " 'TRAV6-5',\n",
       " 'TRAV6-6',\n",
       " 'TRAV6-7/DV9',\n",
       " 'TRAV6D-3',\n",
       " 'TRAV6D-4',\n",
       " 'TRAV6D-5',\n",
       " 'TRAV6D-6',\n",
       " 'TRAV6D-7',\n",
       " 'TRAV6N-5',\n",
       " 'TRAV6N-6',\n",
       " 'TRAV6N-7',\n",
       " 'TRAV7-1',\n",
       " 'TRAV7-2',\n",
       " 'TRAV7-3',\n",
       " 'TRAV7-4',\n",
       " 'TRAV7-5',\n",
       " 'TRAV7-6',\n",
       " 'TRAV7D-2',\n",
       " 'TRAV7D-3',\n",
       " 'TRAV7D-4',\n",
       " 'TRAV7D-5',\n",
       " 'TRAV7D-6',\n",
       " 'TRAV7N-4',\n",
       " 'TRAV7N-5',\n",
       " 'TRAV7N-6',\n",
       " 'TRAV8-1',\n",
       " 'TRAV8-2',\n",
       " 'TRAV8D-1',\n",
       " 'TRAV8D-2',\n",
       " 'TRAV8N-2',\n",
       " 'TRAV9-1',\n",
       " 'TRAV9-2',\n",
       " 'TRAV9-3',\n",
       " 'TRAV9-4',\n",
       " 'TRAV9D-1',\n",
       " 'TRAV9D-2',\n",
       " 'TRAV9D-3',\n",
       " 'TRAV9D-4',\n",
       " 'TRAV9N-1',\n",
       " 'TRAV9N-2',\n",
       " 'TRAV9N-3',\n",
       " 'TRAV9N-4']"
      ]
     },
     "execution_count": 7,
     "metadata": {},
     "output_type": "execute_result"
    }
   ],
   "source": [
    "checkers.collapse_alleles(alleles_fastas)"
   ]
  },
  {
   "cell_type": "code",
   "execution_count": null,
   "metadata": {},
   "outputs": [],
   "source": []
  }
 ],
 "metadata": {
  "kernelspec": {
   "display_name": "decombinator",
   "language": "python",
   "name": "python3"
  },
  "language_info": {
   "codemirror_mode": {
    "name": "ipython",
    "version": 3
   },
   "file_extension": ".py",
   "mimetype": "text/x-python",
   "name": "python",
   "nbconvert_exporter": "python",
   "pygments_lexer": "ipython3",
   "version": "3.11.4"
  }
 },
 "nbformat": 4,
 "nbformat_minor": 2
}
